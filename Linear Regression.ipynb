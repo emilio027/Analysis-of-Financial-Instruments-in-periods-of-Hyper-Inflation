{
 "cells": [
  {
   "cell_type": "code",
   "execution_count": 1,
   "metadata": {},
   "outputs": [
    {
     "data": {
      "text/html": [
       "<div>\n",
       "<style scoped>\n",
       "    .dataframe tbody tr th:only-of-type {\n",
       "        vertical-align: middle;\n",
       "    }\n",
       "\n",
       "    .dataframe tbody tr th {\n",
       "        vertical-align: top;\n",
       "    }\n",
       "\n",
       "    .dataframe thead th {\n",
       "        text-align: right;\n",
       "    }\n",
       "</style>\n",
       "<table border=\"1\" class=\"dataframe\">\n",
       "  <thead>\n",
       "    <tr style=\"text-align: right;\">\n",
       "      <th></th>\n",
       "      <th>X</th>\n",
       "      <th>y</th>\n",
       "    </tr>\n",
       "  </thead>\n",
       "  <tbody>\n",
       "    <tr>\n",
       "      <th>0</th>\n",
       "      <td>2.741785</td>\n",
       "      <td>2.114850</td>\n",
       "    </tr>\n",
       "    <tr>\n",
       "      <th>1</th>\n",
       "      <td>1.154339</td>\n",
       "      <td>2.135979</td>\n",
       "    </tr>\n",
       "    <tr>\n",
       "      <th>2</th>\n",
       "      <td>3.119221</td>\n",
       "      <td>2.764409</td>\n",
       "    </tr>\n",
       "    <tr>\n",
       "      <th>3</th>\n",
       "      <td>5.307575</td>\n",
       "      <td>3.191134</td>\n",
       "    </tr>\n",
       "    <tr>\n",
       "      <th>4</th>\n",
       "      <td>0.914617</td>\n",
       "      <td>2.193742</td>\n",
       "    </tr>\n",
       "  </tbody>\n",
       "</table>\n",
       "</div>"
      ],
      "text/plain": [
       "          X         y\n",
       "0  2.741785  2.114850\n",
       "1  1.154339  2.135979\n",
       "2  3.119221  2.764409\n",
       "3  5.307575  3.191134\n",
       "4  0.914617  2.193742"
      ]
     },
     "execution_count": 1,
     "metadata": {},
     "output_type": "execute_result"
    }
   ],
   "source": [
    "import pandas as pd\n",
    "import numpy as np\n",
    "from matplotlib import pyplot as plt\n",
    "\n",
    "# Generate 'random' data\n",
    "np.random.seed(42)\n",
    "X = 2.5 * np.random.randn(100) + 1.5   # Array of 100 values with mean = 1.5, stddev = 2.5\n",
    "res = 0.5 * np.random.randn(100)       # Generate 100 residual terms\n",
    "y = 2 + 0.3 * X + res                  # Actual values of Y\n",
    "\n",
    "# Create pandas dataframe to store our X and y values\n",
    "df = pd.DataFrame(\n",
    "    {'X': X,\n",
    "     'y': y}\n",
    ")\n",
    "\n",
    "# Show the first five rows of our dataframe\n",
    "df.head()"
   ]
  },
  {
   "cell_type": "code",
   "execution_count": 2,
   "metadata": {},
   "outputs": [
    {
     "name": "stdout",
     "output_type": "stream",
     "text": [
      "alpha = 2.0466910630134163\n",
      "beta = 0.27134856794571127\n"
     ]
    }
   ],
   "source": [
    "# Calculate the mean of X and y\n",
    "xmean = np.mean(X)\n",
    "ymean = np.mean(y)\n",
    "\n",
    "# Calculate the terms needed for the numator and denominator of beta\n",
    "df['xycov'] = (df['X'] - xmean) * (df['y'] - ymean)\n",
    "df['xvar'] = (df['X'] - xmean)**2\n",
    "\n",
    "# Calculate beta and alpha\n",
    "beta = df['xycov'].sum() / df['xvar'].sum()\n",
    "alpha = ymean - (beta * xmean)\n",
    "print(f'alpha = {alpha}')\n",
    "print(f'beta = {beta}')"
   ]
  },
  {
   "cell_type": "code",
   "execution_count": 5,
   "metadata": {},
   "outputs": [
    {
     "data": {
      "text/plain": [
       "array([2.7906706 , 2.35991936, 2.89308731, 3.48689384, 2.29487096,\n",
       "       2.2948821 , 3.52500675, 2.9743197 , 2.13523591, 2.82177114,\n",
       "       2.1393446 , 2.13777616, 2.6178542 , 1.15579928, 1.28357896,\n",
       "       2.07227413, 1.76663823, 2.66689032, 1.83773633, 1.49564745,\n",
       "       3.44796815, 2.30055373, 2.49952312, 1.48720546, 2.08442023,\n",
       "       2.52896063, 1.67291277, 2.70857671, 2.04625779, 2.25583721,\n",
       "       2.04553335, 3.7102465 , 2.44455778, 1.73619305, 3.01170487,\n",
       "       1.62552847, 2.59540101, 1.12432971, 1.55271046, 2.58725895,\n",
       "       2.95466854, 2.56996526, 2.37526143, 2.24945377, 1.45072685,\n",
       "       1.96539218, 2.14122974, 3.17083542, 2.68681474, 1.25771786,\n",
       "       2.67356322, 2.1924851 , 1.99450938, 2.86865763, 3.15311452,\n",
       "       3.08546773, 1.88441273, 2.24395308, 2.67843356, 3.11549585,\n",
       "       2.12865581, 2.32776817, 1.70320789, 1.64224153, 3.00490821,\n",
       "       3.37374839, 2.40486431, 3.13448195, 2.69903746, 2.01608311,\n",
       "       2.69887436, 3.49707396, 2.42941055, 3.51512345, 0.67655371,\n",
       "       3.01126908, 2.51276416, 2.25087587, 2.5159618 , 1.10540397,\n",
       "       2.30469478, 2.69596888, 3.456275  , 2.10213421, 1.90525496,\n",
       "       2.11333628, 3.07469655, 2.67672927, 2.09433973, 2.80189987,\n",
       "       2.51956855, 3.11081499, 1.97746116, 2.23143728, 2.18771895,\n",
       "       1.4609072 , 2.65459345, 2.63080635, 2.45718274, 2.29457671])"
      ]
     },
     "execution_count": 5,
     "metadata": {},
     "output_type": "execute_result"
    }
   ],
   "source": [
    "ypred = alpha + beta * X\n",
    "ypred"
   ]
  },
  {
   "cell_type": "code",
   "execution_count": 6,
   "metadata": {},
   "outputs": [
    {
     "data": {
      "image/png": "[encoded data removed]",
      "text/plain": [
       "<Figure size 1440x576 with 1 Axes>"
      ]
     },
     "metadata": {
      "needs_background": "light"
     },
     "output_type": "display_data"
    }
   ],
   "source": [
    "plt.figure(figsize=(20, 8))\n",
    "plt.plot(X, ypred)     # regression line\n",
    "plt.plot(X, y, 'ro')   # scatter plot showing actual data\n",
    "plt.title('Actual vs Predicted')\n",
    "plt.xlabel('X')\n",
    "plt.ylabel('y')\n",
    "\n",
    "plt.show()"
   ]
  }
 ],
 "metadata": {
  "kernelspec": {
   "display_name": "Python 3",
   "language": "python",
   "name": "python3"
  },
  "language_info": {
   "codemirror_mode": {
    "name": "ipython",
    "version": 3
   },
   "file_extension": ".py",
   "mimetype": "text/x-python",
   "name": "python",
   "nbconvert_exporter": "python",
   "pygments_lexer": "ipython3",
   "version": "3.8.5"
  }
 },
 "nbformat": 4,
 "nbformat_minor": 4
}
