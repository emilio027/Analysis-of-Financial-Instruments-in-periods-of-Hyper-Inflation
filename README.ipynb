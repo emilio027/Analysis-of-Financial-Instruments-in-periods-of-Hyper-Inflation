{
 "cells": [
  {
   "cell_type": "markdown",
   "metadata": {},
   "source": [
    "# Portfolio Diversification During Periods of Hyperinflation"
   ]
  },
  {
   "cell_type": "markdown",
   "metadata": {},
   "source": [
    "![alt text](jerry.png \"Brrr\")"
   ]
  },
  {
   "cell_type": "markdown",
   "metadata": {},
   "source": [
    "## Summary"
   ]
  },
  {
   "cell_type": "markdown",
   "metadata": {},
   "source": [
    "This project aims to continue the study of the best financial instruments during the current market conditions. In periods of hyperinflation and unreasonable monetary policy, it is essential to diversify your portfolio into \" inflation-proof \" assets that are not severely impacted by a non-functioning supply chain.\n",
    "\n",
    "We define periods of hyperinflation as any time with inflation over 5%, the previous one happening in July 2008. According to the latest figures issued by the US Department of Labor, inflation in the United States reached a three-decade high in January '22, with prices of consumer goods and services rising by 8% year over year."
   ]
  },
  {
   "cell_type": "markdown",
   "metadata": {},
   "source": [
    "![alt text](white_house.png \"Infaltion\")"
   ]
  },
  {
   "cell_type": "markdown",
   "metadata": {},
   "source": [
    "Supply chain problems are having a significant effect on the economy right now. Inventory-to-sale ratios have hit record lows across the economy and in the retail sector. Homebuilders say they don't have enough materials, and automakers don't have enough semiconductors. The fire is getting hotter because more people want to buy things. Travel demand, for example, has come back a lot faster than expected, which is straining airlines. In the same way, the number of vehicles sold in April more than doubled from last year, which is leaving dealer lots empty. Prices have gone up because of a rise in demand and a supply chain that isn't fully operational.\n"
   ]
  },
  {
   "cell_type": "markdown",
   "metadata": {},
   "source": [
    "## Business Problem"
   ]
  },
  {
   "cell_type": "markdown",
   "metadata": {},
   "source": [
    "Despite the Federal Reserve's repeated denials of requests to raise interest rates, referring to inflation fears as \"transitory,\" the political repercussions of rising prices may eventually force the government to act. The stock market has responded gingerly to the news, with the benchmark S&P 500 index not dropping. Investors are rushing to protect their growth-oriented portfolios against danger in the current environment.\n",
    "\n",
    "We analyzed various markets intending to inform the reader of possibilities for diversification of their growth portfolio:\n",
    "  1. Commodities\n",
    "  2. Bonds\n",
    "  3. ETFs"
   ]
  },
  {
   "cell_type": "markdown",
   "metadata": {},
   "source": [
    "## Data"
   ]
  },
  {
   "cell_type": "markdown",
   "metadata": {},
   "source": [
    "The financial instruments analyzed and modeled using Facebook's Prophet algorithm are the following:\n",
    "\n",
    "Bonds:\n",
    "1. 10Y US T-Bond\n",
    "2. 5Y US T-Bond\n",
    "3. 2Y US T-Bond\n",
    "\n",
    "ETFs:\n",
    "1. S&P 500\n",
    "2. Dow Jones Industrial Average\n",
    "3. Nasdaq\n",
    "\n",
    "Commodities:\n",
    "1. Gold\n",
    "2. Silver\n",
    "3. Natural Gas"
   ]
  },
  {
   "cell_type": "markdown",
   "metadata": {},
   "source": [
    "## Results"
   ]
  },
  {
   "cell_type": "markdown",
   "metadata": {},
   "source": [
    "After training the model and tunning the parameters for optimal results, the following are the rankings of financial instruments by asset class per their return on investment and mean absolute percentage error: "
   ]
  },
  {
   "cell_type": "markdown",
   "metadata": {},
   "source": [
    "Commodities:\n",
    "1. Gold - ROI: 39.2% | MAPE: 6.7%\n",
    "2. Silver - ROI: 5.3% | MAPE: 14.8%\n",
    "3. Natural Gas - ROI: -76.5% | MAPE: 44.0%"
   ]
  },
  {
   "cell_type": "markdown",
   "metadata": {},
   "source": [
    "![alt text](comms.png \"comms\")"
   ]
  },
  {
   "cell_type": "markdown",
   "metadata": {},
   "source": [
    "ETFs:\n",
    "1. Nasdaq - ROI: 33.7% | MAPE: 22.2%\n",
    "2. S&P 500 - ROI: 14.9% | MAPE: 18.0%\n",
    "3. Dow Jones Industrial Average - ROI: 5.7% | MAPE: 16.9%"
   ]
  },
  {
   "cell_type": "markdown",
   "metadata": {},
   "source": [
    "![alt text](etfs.png \"Title\")"
   ]
  },
  {
   "cell_type": "markdown",
   "metadata": {},
   "source": [
    "Bonds:\n",
    "1. 10Y US T-Bond - ROI: 21.7% | MAPE: 7.1%\n",
    "2. 5Y US T-Bond - ROI: 14% | MAPE: 3.2% \n",
    "3. 2Y US T-Bond - ROI: 5.3% | MAPE: 0.87"
   ]
  },
  {
   "cell_type": "markdown",
   "metadata": {},
   "source": [
    "![alt text](bonds.png \"bonods\")\n"
   ]
  }
 ],
 "metadata": {
  "kernelspec": {
   "display_name": "Python 3",
   "language": "python",
   "name": "python3"
  },
  "language_info": {
   "codemirror_mode": {
    "name": "ipython",
    "version": 3
   },
   "file_extension": ".py",
   "mimetype": "text/x-python",
   "name": "python",
   "nbconvert_exporter": "python",
   "pygments_lexer": "ipython3",
   "version": "3.8.5"
  }
 },
 "nbformat": 4,
 "nbformat_minor": 4
}
